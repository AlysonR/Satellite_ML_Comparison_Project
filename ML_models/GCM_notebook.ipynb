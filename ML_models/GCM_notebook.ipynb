{
 "cells": [
  {
   "cell_type": "code",
   "execution_count": 1,
   "metadata": {},
   "outputs": [],
   "source": [
    "import sys\n",
    "sys.path.append('/home/users/rosealyd/ML_sat_obs/GCM_comp/')\n",
    "import matplotlib.pyplot as plt\n",
    "import numpy as np\n"
   ]
  },
  {
   "cell_type": "code",
   "execution_count": 32,
   "metadata": {},
   "outputs": [],
   "source": [
    "hadgem_dict = np.load('/home/users/rosealyd/ML_sat_obs/GCM_comp/hadgem_data.npy').item()"
   ]
  },
  {
   "cell_type": "code",
   "execution_count": 47,
   "metadata": {},
   "outputs": [],
   "source": [
    "import pickle\n",
    "with open('/home/users/rosealyd/ML_sat_obs/ML_models/lightgbm_GCMcomp_cf_mse.sav', 'rb') as f:\n",
    "        bst = pickle.load(f)"
   ]
  },
  {
   "cell_type": "code",
   "execution_count": 48,
   "metadata": {},
   "outputs": [],
   "source": [
    "X_variables = ['sst', 'EIS', 'tot_aod','tot_ang', 'w500', 'RH850', 'upper_level_winds']"
   ]
  },
  {
   "cell_type": "code",
   "execution_count": 49,
   "metadata": {},
   "outputs": [
    {
     "name": "stdout",
     "output_type": "stream",
     "text": [
      "-0.9253468\n",
      "0.7904648\n",
      "0.08067308410532625\n",
      "2.163249707922746\n"
     ]
    }
   ],
   "source": [
    "print(np.nanmin(hadgem_dict['w500']))\n",
    "print(np.nanmax(hadgem_dict['w500']))\n",
    "print(np.nanmin(hadgem_dict['tot_ang']))\n",
    "print(np.nanmax(hadgem_dict['tot_ang']))"
   ]
  },
  {
   "cell_type": "code",
   "execution_count": 62,
   "metadata": {},
   "outputs": [
    {
     "name": "stderr",
     "output_type": "stream",
     "text": [
      "/opt/jaspy/lib/python3.7/site-packages/ipykernel_launcher.py:1: RuntimeWarning: invalid value encountered in less\n",
      "  \"\"\"Entry point for launching an IPython kernel.\n"
     ]
    }
   ],
   "source": [
    "bad = (hadgem_dict['sst'][0] < 240)\n",
    "hadgem_dict['sst'][0][bad] = np.nan"
   ]
  },
  {
   "cell_type": "code",
   "execution_count": null,
   "metadata": {},
   "outputs": [
    {
     "name": "stderr",
     "output_type": "stream",
     "text": [
      "/opt/jaspy/lib/python3.7/site-packages/ipykernel_launcher.py:10: UserWarning: Warning: converting a masked element to nan.\n",
      "  # Remove the CWD from sys.path while we load stuff.\n"
     ]
    }
   ],
   "source": [
    "\n",
    "predicted_cfs = np.empty(hadgem_dict['sst'][0].shape)\n",
    "xais = []\n",
    "for month in range(1):\n",
    "    for lat in range(len(hadgem_dict['sst'][month])):\n",
    "            for lon in range(len(hadgem_dict['sst'][month][lat])):\n",
    "                xai = []\n",
    "                for var in X_variables:\n",
    "                    xai.append(hadgem_dict[var][month][lat][lon])\n",
    "                if (True not in np.isnan(xai)) and (hadgem_dict['RH850'][month][lat][lon] < 81):\n",
    "                    predicted_cfs[lat][lon] = bst.predict([xai])[0]\n",
    "                    xais.append(xai)\n",
    "    xais = np.array(xais)\n",
    "    pred_cfs = bst.predict(xais)\n"
   ]
  },
  {
   "cell_type": "code",
   "execution_count": null,
   "metadata": {},
   "outputs": [],
   "source": [
    "plt.hist(pred_cfs)\n",
    "plt.show()"
   ]
  },
  {
   "cell_type": "code",
   "execution_count": null,
   "metadata": {},
   "outputs": [],
   "source": [
    "plt.pcolormesh(predicted_cfs, vmin = 0, vmax = 1.)\n",
    "plt.colorbar()\n",
    "plt.show()"
   ]
  },
  {
   "cell_type": "code",
   "execution_count": null,
   "metadata": {},
   "outputs": [],
   "source": [
    "plt.pcolormesh(hadgem_dict['cf'][0])\n",
    "plt.colorbar()\n",
    "plt.show()"
   ]
  },
  {
   "cell_type": "code",
   "execution_count": null,
   "metadata": {},
   "outputs": [],
   "source": []
  }
 ],
 "metadata": {
  "kernelspec": {
   "display_name": "Python 3 + Jaspy",
   "language": "python",
   "name": "jaspy"
  },
  "language_info": {
   "codemirror_mode": {
    "name": "ipython",
    "version": 3
   },
   "file_extension": ".py",
   "mimetype": "text/x-python",
   "name": "python",
   "nbconvert_exporter": "python",
   "pygments_lexer": "ipython3",
   "version": "3.7.1"
  }
 },
 "nbformat": 4,
 "nbformat_minor": 4
}
