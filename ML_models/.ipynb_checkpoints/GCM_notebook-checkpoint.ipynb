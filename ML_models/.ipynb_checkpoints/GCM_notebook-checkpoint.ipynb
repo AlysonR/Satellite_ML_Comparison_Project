{
 "cells": [
  {
   "cell_type": "code",
   "execution_count": 1,
   "metadata": {},
   "outputs": [],
   "source": [
    "import sys\n",
    "sys.path.append('/home/users/rosealyd/ML_sat_obs/GCM_comp/')\n",
    "import matplotlib.pyplot as plt\n",
    "import numpy as np\n"
   ]
  },
  {
   "cell_type": "code",
   "execution_count": 2,
   "metadata": {},
   "outputs": [],
   "source": [
    "hadgem_dict = np.load('/home/users/rosealyd/ML_sat_obs/GCM_comp/hadgem_data.npy').item()"
   ]
  },
  {
   "cell_type": "code",
   "execution_count": 3,
   "metadata": {},
   "outputs": [
    {
     "name": "stdout",
     "output_type": "stream",
     "text": [
      "data loaded\n"
     ]
    }
   ],
   "source": [
    "print('data loaded')"
   ]
  },
  {
   "cell_type": "code",
   "execution_count": 4,
   "metadata": {},
   "outputs": [],
   "source": [
    "import pickle\n",
    "with open('/home/users/rosealyd/ML_sat_obs/ML_models/lightgbm_GCMcomp_cf_mse.sav', 'rb') as f:\n",
    "        bst = pickle.load(f)"
   ]
  },
  {
   "cell_type": "code",
   "execution_count": 9,
   "metadata": {},
   "outputs": [],
   "source": [
    "X_variables = ['sst', 'EIS', 'tot_aod','tot_ang', 'w500', 'RH850', 'upper_level_winds']"
   ]
  },
  {
   "cell_type": "code",
   "execution_count": 19,
   "metadata": {},
   "outputs": [
    {
     "name": "stderr",
     "output_type": "stream",
     "text": [
      "/opt/jaspy/lib/python3.7/site-packages/ipykernel_launcher.py:9: UserWarning: Warning: converting a masked element to nan.\n",
      "  if __name__ == '__main__':\n"
     ]
    },
    {
     "name": "stdout",
     "output_type": "stream",
     "text": [
      "(56235, 7)\n",
      "[272.54426155 272.74759222 274.16794102 ... 271.69103557 272.74707911\n",
      " 272.75105125]\n",
      "[ 0.03458512  0.0259583  -0.06810451 ...  0.01356891  0.01361835\n",
      "  0.0136281 ]\n"
     ]
    },
    {
     "ename": "SystemExit",
     "evalue": "",
     "output_type": "error",
     "traceback": [
      "An exception has occurred, use %tb to see the full traceback.\n",
      "\u001b[0;31mSystemExit\u001b[0m\n"
     ]
    }
   ],
   "source": [
    "predicted_cfs = np.empty(hadgem_dict['sst'][0].shape)\n",
    "xais = []\n",
    "for month in range(10):\n",
    "    for lat in range(len(hadgem_dict['sst'][month])):\n",
    "            for lon in range(len(hadgem_dict['sst'][month][lat])):\n",
    "                xai = []\n",
    "                for var in X_variables:\n",
    "                    xai.append(hadgem_dict[var][month][lat][lon])\n",
    "                if True not in np.isnan(xai):\n",
    "                    xais.append(xai)\n",
    "    xais = np.array(xais)\n",
    "    print(xais.shape)\n",
    "    print(np.nanmax(xais, axis = 2))\n",
    "    print(np.nanmin(xais, axis = 2))\n",
    "    sys.exit()\n"
   ]
  },
  {
   "cell_type": "code",
   "execution_count": null,
   "metadata": {},
   "outputs": [],
   "source": []
  }
 ],
 "metadata": {
  "kernelspec": {
   "display_name": "Python 3 + Jaspy",
   "language": "python",
   "name": "jaspy"
  },
  "language_info": {
   "codemirror_mode": {
    "name": "ipython",
    "version": 3
   },
   "file_extension": ".py",
   "mimetype": "text/x-python",
   "name": "python",
   "nbconvert_exporter": "python",
   "pygments_lexer": "ipython3",
   "version": "3.7.1"
  }
 },
 "nbformat": 4,
 "nbformat_minor": 4
}
